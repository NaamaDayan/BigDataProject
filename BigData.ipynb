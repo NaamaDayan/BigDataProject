{
 "cells": [
  {
   "cell_type": "code",
   "execution_count": null,
   "metadata": {},
   "outputs": [],
   "source": [
    "def read_data_for_year(year):\n",
    "    path = 'Eora26_'+year+'_bp/'  \n",
    "    t = pd.read_csv(path+'Eora26_'+year+'_bp_T.txt', sep='\\t', header=None) #shape = (4915, 4915)\n",
    "    #     row (import from columns) is source and column (export from rows) is destination\n",
    "\n",
    "#     fd = pd.read_csv(path+'Eora26_'+year+'_bp_FD.txt', sep='\\t', header=None) #shape = (4915, 1140) fd = final demand\n",
    "#     va = pd.read_csv(path+'Eora26_'+year+'_bp_VA.txt', sep='\\t', header=None) #shape = (6, 4915) va = value added, primary input\n",
    "#     q = pd.read_csv(path+'Eora26_'+year+'_bp_Q.txt', sep='\\t', header=None) #shape = (2619, 4915) rows in the satellite block\n",
    "#     qy = pd.read_csv(path+'Eora26_'+year+'_bp_QY.txt', sep='\\t', header=None) #shape = (2619, 1140)\n",
    "   \n",
    "    files = [('T', t, True)] #[('FD', fd, True), ('Q', q, False), ('T', t, True), ('VA', va, False)] \n",
    "    for i, file in enumerate(files):\n",
    "        with open('indices/labels_'+file[0]+'.txt') as f:\n",
    "            labels = f.readlines()\n",
    "            labels = [\" \".join(i.rstrip(\"\\n\\t\").split(\"\\t\")).replace(\"\\n\",\"\") for i in labels]\n",
    "        if file[2]:\n",
    "            file[1].columns = labels\n",
    "        else:\n",
    "            file[1].index = labels\n",
    "    t.index = t.columns\n",
    "    t['Year'] = [year]*t.shape[0]\n",
    "    return t\n",
    "\n",
    "years = ['1996', '2008', '2015']\n",
    "all_years = pd.concat([read_data_for_year(year) for year in years])\n",
    "    \n",
    "    "
   ]
  },
  {
   "cell_type": "code",
   "execution_count": null,
   "metadata": {},
   "outputs": [],
   "source": [
    "def vals_from_cluster(cluster_ind):\n",
    "    return np.take(df['Count'].values, np.where(kmeans.labels_==cluster_ind)[0])\n",
    "\n",
    "def get_min_max(cluster_ind):\n",
    "    return human_format(vals_from_cluster(cluster_ind).min()) + \"-\" + human_format(vals_from_cluster(cluster_ind).max())\n",
    "\n",
    "def human_format(num):\n",
    "    magnitude = 0\n",
    "    while abs(num) >= 1000:\n",
    "        magnitude += 1\n",
    "        num /= 1000.0\n",
    "    # add more suffixes if you need them\n",
    "    return '%d%s' % (num, ['', 'K', 'M', 'G', 'T', 'P'][magnitude])\n",
    "\n",
    "\n",
    "df = all_years.copy()\n",
    "df['location'] = [i.split(\" \")[0] for i in df.index]\n",
    "df['Count'] = df['USA USA Industries Electrical and Machinery'] \n",
    "df = df[['Count', 'location', 'Year']].groupby(['location', 'Year']).sum().reset_index()\n",
    "vals = [[0,i] for i in df['Count'].values] #convert to 2d array\n",
    "n_clusters=10\n",
    "kmeans = KMeans(n_clusters=n_clusters, random_state=0).fit(vals)\n",
    "min_max_mapping = dict([(i, get_min_max(i)) for i in range(n_clusters)])\n",
    "df['Count-descrete'] = [min_max_mapping[cluster_ind] for cluster_ind in kmeans.labels_]\n",
    "df.head()\n"
   ]
  },
  {
   "cell_type": "code",
   "execution_count": null,
   "metadata": {},
   "outputs": [],
   "source": [
    "import plotly_express as px\n",
    "px.choropleth(df, locations='location', locationmode='country names', color='Count-descrete', animation_frame='Year')\n",
    "\n"
   ]
  }
 ],
 "metadata": {
  "kernelspec": {
   "display_name": "Python 3",
   "language": "python",
   "name": "python3"
  },
  "language_info": {
   "codemirror_mode": {
    "name": "ipython",
    "version": 3
   },
   "file_extension": ".py",
   "mimetype": "text/x-python",
   "name": "python",
   "nbconvert_exporter": "python",
   "pygments_lexer": "ipython3",
   "version": "3.7.6"
  }
 },
 "nbformat": 4,
 "nbformat_minor": 4
}
